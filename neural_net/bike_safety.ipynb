{
 "cells": [
  {
   "cell_type": "code",
   "execution_count": 43,
   "metadata": {},
   "outputs": [],
   "source": [
    "import matplotlib.pyplot as plt\n",
    "import torch\n",
    "import torch.nn as nn\n",
    "import torch.optim as optim\n",
    "import torch.nn.functional as F\n",
    "import numpy as np\n",
    "import pandas as pd\n",
    "import torch.utils.data\n",
    "import pickle"
   ]
  },
  {
   "cell_type": "code",
   "execution_count": 44,
   "metadata": {},
   "outputs": [],
   "source": [
    "\n",
    "class model(nn.Module):\n",
    "    def __init__(self):\n",
    "        super(model, self).__init__()\n",
    "        self.fc1 = nn.Linear(5,30)\n",
    "        self.fc2 = nn.Linear(30,50)\n",
    "        self.fc3 = nn.Linear(50,90)\n",
    "        self.fc4 = nn.Linear(90,120)\n",
    "        self.fc5 = nn.Linear(120,80)\n",
    "        self.fc6 = nn.Linear(80,60)\n",
    "        self.fc7 = nn.Linear(60,30)\n",
    "        self.fc8 = nn.Linear(30,20)\n",
    "        self.fc9 = nn.Linear(20,10)\n",
    "        self.fc10 = nn.Linear(10,1)\n",
    "# Final output: predicing # of possible accidents\n",
    "\n",
    "    def forward(self, x):\n",
    "        out = F.relu(self.fc1(x))\n",
    "        out = F.dropout(out, p=0.5)\n",
    "        out = F.relu(self.fc2(out))\n",
    "        out = F.dropout(out, p=0.5)\n",
    "        out = F.relu(self.fc3(out))\n",
    "        out = F.dropout(out, p=0.5)\n",
    "        out = F.relu(self.fc4(out))\n",
    "        out = F.dropout(out, p=0.5)\n",
    "        out = F.relu(self.fc5(out))\n",
    "        out = F.dropout(out, p=0.5)\n",
    "        out = F.relu(self.fc6(out))\n",
    "        out = F.dropout(out, p=0.5)\n",
    "        out = F.relu(self.fc7(out))\n",
    "        out = F.dropout(out, p=0.5)\n",
    "        out = F.relu(self.fc8(out))\n",
    "        out = F.dropout(out, p=0.5)\n",
    "        out = self.fc9(out)\n",
    "        return out"
   ]
  },
  {
   "cell_type": "code",
   "execution_count": 45,
   "metadata": {},
   "outputs": [],
   "source": [
    "bike = model() "
   ]
  },
  {
   "cell_type": "code",
   "execution_count": 46,
   "metadata": {},
   "outputs": [],
   "source": [
    "bike.load_state_dict(torch.load('Model_optimal.pth'))"
   ]
  },
  {
   "cell_type": "code",
   "execution_count": 47,
   "metadata": {},
   "outputs": [
    {
     "data": {
      "text/plain": [
       "model(\n",
       "  (fc1): Linear(in_features=5, out_features=30, bias=True)\n",
       "  (fc2): Linear(in_features=30, out_features=50, bias=True)\n",
       "  (fc3): Linear(in_features=50, out_features=90, bias=True)\n",
       "  (fc4): Linear(in_features=90, out_features=120, bias=True)\n",
       "  (fc5): Linear(in_features=120, out_features=80, bias=True)\n",
       "  (fc6): Linear(in_features=80, out_features=60, bias=True)\n",
       "  (fc7): Linear(in_features=60, out_features=30, bias=True)\n",
       "  (fc8): Linear(in_features=30, out_features=20, bias=True)\n",
       "  (fc9): Linear(in_features=20, out_features=10, bias=True)\n",
       "  (fc10): Linear(in_features=10, out_features=1, bias=True)\n",
       ")"
      ]
     },
     "execution_count": 47,
     "metadata": {},
     "output_type": "execute_result"
    }
   ],
   "source": [
    "bike"
   ]
  },
  {
   "cell_type": "markdown",
   "metadata": {},
   "source": [
    "# Codes\n",
    "\n",
    "# Time\n",
    "* 3 = PM\n",
    "* 1 = RUSH HOUR\n",
    "* 2 = AM \n",
    "\n",
    "Time is the THIRD feature you feed into the model."
   ]
  },
  {
   "cell_type": "code",
   "execution_count": 48,
   "metadata": {},
   "outputs": [],
   "source": [
    "data= torch.tensor((2006,1,1,45.5017, -73.5673))\n",
    "\n",
    "data.shape\n",
    "output = bike(data)\n"
   ]
  },
  {
   "cell_type": "code",
   "execution_count": 49,
   "metadata": {},
   "outputs": [
    {
     "name": "stdout",
     "output_type": "stream",
     "text": [
      "torch.Size([10])\n"
     ]
    }
   ],
   "source": [
    "print(output.shape)"
   ]
  },
  {
   "cell_type": "code",
   "execution_count": 50,
   "metadata": {},
   "outputs": [
    {
     "data": {
      "text/plain": [
       "tensor([ 3.6829e+16,  3.5253e+16, -3.5292e+16, -3.5597e+16, -3.6441e+16,\n",
       "        -3.5806e+16, -3.4564e+16, -3.5545e+16, -3.5968e+16, -3.6189e+16])"
      ]
     },
     "execution_count": 50,
     "metadata": {},
     "output_type": "execute_result"
    }
   ],
   "source": [
    "output"
   ]
  },
  {
   "cell_type": "code",
   "execution_count": 51,
   "metadata": {},
   "outputs": [
    {
     "data": {
      "text/plain": [
       "tensor([ 3.6829e+16,  3.5253e+16, -3.5292e+16, -3.5597e+16, -3.6441e+16,\n",
       "        -3.5806e+16, -3.4564e+16, -3.5545e+16, -3.5968e+16, -3.6189e+16])"
      ]
     },
     "execution_count": 51,
     "metadata": {},
     "output_type": "execute_result"
    }
   ],
   "source": [
    "# 1 Point: (45.501689, -73.567256), 1, 1\n",
    "\n",
    "data = torch.tensor((2006,1,1,45.501689,-73.567256))\n",
    "output = bike(data)\n",
    "output \n",
    "# Prediction: 0 -- safe "
   ]
  },
  {
   "cell_type": "code",
   "execution_count": 52,
   "metadata": {},
   "outputs": [
    {
     "data": {
      "text/plain": [
       "tensor([ 3.6812e+16,  3.5237e+16, -3.5276e+16, -3.5580e+16, -3.6424e+16,\n",
       "        -3.5789e+16, -3.4548e+16, -3.5528e+16, -3.5952e+16, -3.6172e+16])"
      ]
     },
     "execution_count": 52,
     "metadata": {},
     "output_type": "execute_result"
    }
   ],
   "source": [
    "# 2 Point (45.501689, -73.567256), 1, 2\n",
    "data = torch.tensor((2006,1,2,45.501689,-73.567256))\n",
    "output = bike(data)\n",
    "output \n",
    "# Prediction: 0 -- safe"
   ]
  },
  {
   "cell_type": "code",
   "execution_count": 53,
   "metadata": {},
   "outputs": [
    {
     "data": {
      "text/plain": [
       "tensor([ 3.6795e+16,  3.5221e+16, -3.5259e+16, -3.5564e+16, -3.6407e+16,\n",
       "        -3.5773e+16, -3.4532e+16, -3.5512e+16, -3.5935e+16, -3.6156e+16])"
      ]
     },
     "execution_count": 53,
     "metadata": {},
     "output_type": "execute_result"
    }
   ],
   "source": [
    "# 3 Point (45.501689, -73.567256), 1, 3\n",
    "data = torch.tensor((2006,1,3,45.501689,-73.567256))\n",
    "output = bike(data)\n",
    "output \n",
    "# Prediction: 0 -- safe "
   ]
  },
  {
   "cell_type": "code",
   "execution_count": 54,
   "metadata": {},
   "outputs": [
    {
     "data": {
      "text/plain": [
       "tensor([ 3.6812e+16,  3.5238e+16, -3.5276e+16, -3.5581e+16, -3.6424e+16,\n",
       "        -3.5790e+16, -3.4548e+16, -3.5529e+16, -3.5952e+16, -3.6173e+16])"
      ]
     },
     "execution_count": 54,
     "metadata": {},
     "output_type": "execute_result"
    }
   ],
   "source": [
    "# 4 Point (45.501689, -73.567256), 2, 1\n",
    "data = torch.tensor((2006,2,1,45.501689,-73.567256))\n",
    "output = bike(data)\n",
    "output \n",
    "# Prediction: 0 -- safe"
   ]
  },
  {
   "cell_type": "code",
   "execution_count": 56,
   "metadata": {},
   "outputs": [
    {
     "data": {
      "text/plain": [
       "tensor([ 3.6795e+16,  3.5221e+16, -3.5260e+16, -3.5564e+16, -3.6407e+16,\n",
       "        -3.5773e+16, -3.4532e+16, -3.5512e+16, -3.5935e+16, -3.6156e+16])"
      ]
     },
     "execution_count": 56,
     "metadata": {},
     "output_type": "execute_result"
    }
   ],
   "source": [
    "# 5 Point (45.501689, -73.567256), 2, 2\n",
    "data = torch.tensor((2006,2,2,45.501689,-73.567256))\n",
    "output = bike(data)\n",
    "output \n",
    "# Prediction: 0 -- safe"
   ]
  },
  {
   "cell_type": "code",
   "execution_count": 69,
   "metadata": {},
   "outputs": [
    {
     "data": {
      "text/plain": [
       "tensor([ 1.,  0.,  0.,  0.,  0.,  0.,  0.,  0.,  0.,  0.])"
      ]
     },
     "execution_count": 69,
     "metadata": {},
     "output_type": "execute_result"
    }
   ],
   "source": [
    "F.softmax(output, dim=0)"
   ]
  },
  {
   "cell_type": "code",
   "execution_count": 57,
   "metadata": {},
   "outputs": [
    {
     "data": {
      "text/plain": [
       "tensor([ 3.6778e+16,  3.5205e+16, -3.5243e+16, -3.5548e+16, -3.6391e+16,\n",
       "        -3.5757e+16, -3.4516e+16, -3.5496e+16, -3.5919e+16, -3.6139e+16])"
      ]
     },
     "execution_count": 57,
     "metadata": {},
     "output_type": "execute_result"
    }
   ],
   "source": [
    "# 6 Point (45.501689, -73.567256), 2, 3\n",
    "data = torch.tensor((2006,2,3,45.501689,-73.567256))\n",
    "output = bike(data)\n",
    "output \n",
    "# Prediction: 0 -- safe"
   ]
  },
  {
   "cell_type": "code",
   "execution_count": 59,
   "metadata": {},
   "outputs": [
    {
     "data": {
      "text/plain": [
       "tensor([ 3.6729e+16,  3.5157e+16, -3.5196e+16, -3.5500e+16, -3.6341e+16,\n",
       "        -3.5708e+16, -3.4470e+16, -3.5448e+16, -3.5870e+16, -3.6090e+16])"
      ]
     },
     "execution_count": 59,
     "metadata": {},
     "output_type": "execute_result"
    }
   ],
   "source": [
    "# 7 Point (45.501689, -73.567256), 5, 3\n",
    "data = torch.tensor((2006,5,3,45.501689,-73.567256))\n",
    "output = bike(data)\n",
    "output \n",
    "# Prediction: 0 -- safe"
   ]
  },
  {
   "cell_type": "code",
   "execution_count": 60,
   "metadata": {},
   "outputs": [
    {
     "data": {
      "text/plain": [
       "tensor([ 3.6712e+16,  3.5142e+16, -3.5180e+16, -3.5484e+16, -3.6325e+16,\n",
       "        -3.5692e+16, -3.4454e+16, -3.5432e+16, -3.5854e+16, -3.6074e+16])"
      ]
     },
     "execution_count": 60,
     "metadata": {},
     "output_type": "execute_result"
    }
   ],
   "source": [
    "# 8 Point (45.501689, -73.567256), 6, 3\n",
    "data = torch.tensor((2006,6,3,45.501689,-73.567256))\n",
    "output = bike(data)\n",
    "output \n",
    "# Prediction: 0 -- safe"
   ]
  },
  {
   "cell_type": "code",
   "execution_count": 61,
   "metadata": {},
   "outputs": [
    {
     "data": {
      "text/plain": [
       "tensor([ 3.6746e+16,  3.5174e+16, -3.5212e+16, -3.5517e+16, -3.6358e+16,\n",
       "        -3.5725e+16, -3.4486e+16, -3.5465e+16, -3.5887e+16, -3.6107e+16])"
      ]
     },
     "execution_count": 61,
     "metadata": {},
     "output_type": "execute_result"
    }
   ],
   "source": [
    "# 9 Point (45.517843, -73.567029), 6, 1\n",
    "data = torch.tensor((2006,6,1,45.517843,-73.567029))\n",
    "output = bike(data)\n",
    "output \n",
    "# Prediction: 0 -- safe "
   ]
  },
  {
   "cell_type": "code",
   "execution_count": 62,
   "metadata": {},
   "outputs": [
    {
     "data": {
      "text/plain": [
       "tensor([ 3.6746e+16,  3.5174e+16, -3.5212e+16, -3.5517e+16, -3.6359e+16,\n",
       "        -3.5725e+16, -3.4486e+16, -3.5465e+16, -3.5887e+16, -3.6108e+16])"
      ]
     },
     "execution_count": 62,
     "metadata": {},
     "output_type": "execute_result"
    }
   ],
   "source": [
    "# 10 Point (45.512998, -73.569139), 6, 1\n",
    "data = torch.tensor((2006,6,1,45.512998,-73.569139))\n",
    "output = bike(data)\n",
    "output\n",
    "# Prediction: 0 -- safe"
   ]
  },
  {
   "cell_type": "code",
   "execution_count": 63,
   "metadata": {},
   "outputs": [
    {
     "data": {
      "text/plain": [
       "tensor([ 3.6746e+16,  3.5174e+16, -3.5212e+16, -3.5517e+16, -3.6359e+16,\n",
       "        -3.5725e+16, -3.4486e+16, -3.5465e+16, -3.5887e+16, -3.6108e+16])"
      ]
     },
     "execution_count": 63,
     "metadata": {},
     "output_type": "execute_result"
    }
   ],
   "source": [
    "# 11 Point (45.511558, -73.578207), 6,1\n",
    "data = torch.tensor((2006,6,1,45.511558,-73.578207))\n",
    "output = bike(data)\n",
    "output\n",
    "# Prediction: 0 -- safe "
   ]
  },
  {
   "cell_type": "code",
   "execution_count": 64,
   "metadata": {},
   "outputs": [
    {
     "data": {
      "text/plain": [
       "tensor([ 3.6729e+16,  3.5158e+16, -3.5196e+16, -3.5500e+16, -3.6342e+16,\n",
       "        -3.5709e+16, -3.4470e+16, -3.5448e+16, -3.5871e+16, -3.6091e+16])"
      ]
     },
     "execution_count": 64,
     "metadata": {},
     "output_type": "execute_result"
    }
   ],
   "source": [
    "# 12 Point (45.511558, -73.578207), 6,2\n",
    "data = torch.tensor((2006,6,2,45.511558,-73.578207))\n",
    "output = bike(data)\n",
    "output\n",
    "# Prediction: 0 -- safe "
   ]
  },
  {
   "cell_type": "code",
   "execution_count": 65,
   "metadata": {},
   "outputs": [
    {
     "data": {
      "text/plain": [
       "tensor([ 3.6712e+16,  3.5142e+16, -3.5180e+16, -3.5484e+16, -3.6325e+16,\n",
       "        -3.5692e+16, -3.4454e+16, -3.5432e+16, -3.5854e+16, -3.6074e+16])"
      ]
     },
     "execution_count": 65,
     "metadata": {},
     "output_type": "execute_result"
    }
   ],
   "source": [
    "# 13 Point (45.511558, -73.578207), 6,3\n",
    "data = torch.tensor((2006,6,3,45.511558,-73.578207))\n",
    "output = bike(data)\n",
    "output\n",
    "# Prediction: 0 -- safe "
   ]
  },
  {
   "cell_type": "code",
   "execution_count": 66,
   "metadata": {},
   "outputs": [
    {
     "data": {
      "text/plain": [
       "tensor([ 3.6729e+16,  3.5158e+16, -3.5197e+16, -3.5501e+16, -3.6342e+16,\n",
       "        -3.5709e+16, -3.4471e+16, -3.5449e+16, -3.5871e+16, -3.6091e+16])"
      ]
     },
     "execution_count": 66,
     "metadata": {},
     "output_type": "execute_result"
    }
   ],
   "source": [
    "# 14 Point (45.512095, -73.568483), 7, 1\n",
    "data = torch.tensor((2006,7,1,45.511558,-73.578207))\n",
    "output = bike(data)\n",
    "output\n",
    "# Prediction: 0 -- safe "
   ]
  },
  {
   "cell_type": "code",
   "execution_count": null,
   "metadata": {},
   "outputs": [],
   "source": []
  }
 ],
 "metadata": {
  "kernelspec": {
   "display_name": "Python 3",
   "language": "python",
   "name": "python3"
  },
  "language_info": {
   "codemirror_mode": {
    "name": "ipython",
    "version": 3
   },
   "file_extension": ".py",
   "mimetype": "text/x-python",
   "name": "python",
   "nbconvert_exporter": "python",
   "pygments_lexer": "ipython3",
   "version": "3.6.5"
  }
 },
 "nbformat": 4,
 "nbformat_minor": 2
}
