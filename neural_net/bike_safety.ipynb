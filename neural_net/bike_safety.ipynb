{
 "cells": [
  {
   "cell_type": "code",
   "execution_count": 1,
   "metadata": {},
   "outputs": [],
   "source": [
    "import matplotlib.pyplot as plt\n",
    "import torch\n",
    "import torch.nn as nn\n",
    "import torch.optim as optim\n",
    "import torch.nn.functional as F\n",
    "import numpy as np\n",
    "import pandas as pd\n",
    "import torch.utils.data\n",
    "import pickle\n",
    "import os"
   ]
  },
  {
   "cell_type": "code",
   "execution_count": 2,
   "metadata": {},
   "outputs": [],
   "source": [
    "def eval(model, eval_loader):\n",
    "    model.eval()\n",
    "    total_loss = 0\n",
    "    correct = 0\n",
    "\n",
    "    for batch_fix, (data, target) in enumerate(eval_loader):\n",
    "        prediction = model(data)\n",
    "        loss = cost_function(prediction, target)\n",
    "        total_loss += loss.data[0]*len(data)\n",
    "        pred_classes = prediction.data.max(1,keepdim=True)[1]\n",
    "        correct += pred_classes.eq(target.data.view_as(pred_classes)).sum().double()\n",
    "\n",
    "    # compute mean loss\n",
    "    mean_loss = total_loss/len(eval_loader.dataset)\n",
    "    acc = correct/len(eval_loader.dataset)\n",
    "    print('Eval:  Avg_Loss: {:.5f}   Acc: {}/{} ({:.3f}%)'.format(\n",
    "        mean_loss, correct, len(eval_loader.dataset),\n",
    "        100. * acc))\n",
    "    return mean_loss, acc\n",
    "\n",
    "def cost_function(prediction, target):\n",
    "    loss = F.cross_entropy(prediction, target)\n",
    "    return loss\n"
   ]
  },
  {
   "cell_type": "code",
   "execution_count": 3,
   "metadata": {},
   "outputs": [],
   "source": [
    "\n",
    "class Net(nn.Module):\n",
    "    def __init__(self):\n",
    "        super(Net, self).__init__()\n",
    "        self.fc1 = nn.Linear(5, 20)\n",
    "        self.fc2 = nn.Linear(20, 40)\n",
    "        self.fc3 = nn.Linear(40, 40)\n",
    "        self.fc4 = nn.Linear(40, 80)\n",
    "        self.fc5 = nn.Linear(80, 40)\n",
    "        self.fc6 = nn.Linear(40, 20)\n",
    "        self.fc7 = nn.Linear(20, 11)         # Final output: predicing # of possible accidents\n",
    "\n",
    "    def forward(self, x):\n",
    "        out = F.relu(self.fc1(x))\n",
    "        out = F.dropout(out, p=0.5)\n",
    "        out = F.relu(self.fc2(out))\n",
    "        out = F.dropout(out, p=0.5)\n",
    "        out = F.relu(self.fc3(out))\n",
    "        out = F.dropout(out, p=0.5)\n",
    "        out = F.relu(self.fc4(out))\n",
    "        out = F.dropout(out, p=0.5)\n",
    "        out = F.relu(self.fc5(out))\n",
    "        out = F.dropout(out, p=0.5)\n",
    "        out = F.relu(self.fc6(out))\n",
    "        out = F.dropout(out, p=0.5)\n",
    "        out = self.fc7(out)\n",
    "        return out"
   ]
  },
  {
   "cell_type": "code",
   "execution_count": 4,
   "metadata": {},
   "outputs": [],
   "source": [
    "neural_net = Net()"
   ]
  },
  {
   "cell_type": "code",
   "execution_count": 5,
   "metadata": {},
   "outputs": [],
   "source": [
    "df = pd.read_csv(\"data.csv\")\n",
    "\n",
    "train, validate, test = np.split(df.sample(frac=1, random_state=134),\n",
    "                                 [int(.6*len(df)), int(.8*len(df))])\n",
    "\n",
    "x_train = train.drop(['Count'], axis =1).values\n",
    "y_train = train['Count'].values\n",
    "\n",
    "x_val = train.drop(['Count'], axis=1).values\n",
    "y_val = train['Count'].values\n",
    "\n",
    "x_test = test.drop(['Count'], axis=1).values\n",
    "y_test = test['Count'].values\n",
    "\n",
    "\n",
    "train_data = torch.utils.data.TensorDataset(torch.from_numpy(x_train).float(),\n",
    "                                            torch.from_numpy(y_train).long())\n",
    "val_data = torch.utils.data.TensorDataset(torch.from_numpy(x_val).float(),\n",
    "                                          torch.from_numpy(y_val).long())\n",
    "test_data = torch.utils.data.TensorDataset(torch.from_numpy(x_test).float(),\n",
    "                                           torch.from_numpy(y_test).long())\n",
    "\n",
    "\n",
    "train_batch_size = 32\n",
    "eval_batch_size = 32\n",
    "train_loader = torch.utils.data.DataLoader(train_data, batch_size = train_batch_size, shuffle =True)\n",
    "val_loader = torch.utils.data.DataLoader(val_data, batch_size = eval_batch_size, shuffle = False)\n",
    "test_loader = torch.utils.data.DataLoader(test_data, batch_size = eval_batch_size, shuffle=False)\n"
   ]
  },
  {
   "cell_type": "code",
   "execution_count": 6,
   "metadata": {},
   "outputs": [
    {
     "name": "stdout",
     "output_type": "stream",
     "text": [
      "Eval:  Avg_Loss: 2.79160   Acc: 46.0/749 (6.142%)\n"
     ]
    },
    {
     "name": "stderr",
     "output_type": "stream",
     "text": [
      "/Users/ShereenElaidi/anaconda3/lib/python3.6/site-packages/ipykernel_launcher.py:9: UserWarning: invalid index of a 0-dim tensor. This will be an error in PyTorch 0.5. Use tensor.item() to convert a 0-dim tensor to a Python number\n",
      "  if __name__ == '__main__':\n"
     ]
    }
   ],
   "source": [
    "test_loss, test_acc = eval(neural_net, test_loader)"
   ]
  },
  {
   "cell_type": "code",
   "execution_count": 7,
   "metadata": {},
   "outputs": [],
   "source": [
    "\n",
    "# neural_net.load_state_dict(torch.load('Model_optimal.pth'))\n",
    "a = torch.load('Model_optimal.pth')\n"
   ]
  },
  {
   "cell_type": "code",
   "execution_count": 8,
   "metadata": {},
   "outputs": [
    {
     "data": {
      "text/plain": [
       "Net(\n",
       "  (fc1): Linear(in_features=5, out_features=20, bias=True)\n",
       "  (fc2): Linear(in_features=20, out_features=40, bias=True)\n",
       "  (fc3): Linear(in_features=40, out_features=40, bias=True)\n",
       "  (fc4): Linear(in_features=40, out_features=80, bias=True)\n",
       "  (fc5): Linear(in_features=80, out_features=40, bias=True)\n",
       "  (fc6): Linear(in_features=40, out_features=20, bias=True)\n",
       "  (fc7): Linear(in_features=20, out_features=11, bias=True)\n",
       ")"
      ]
     },
     "execution_count": 8,
     "metadata": {},
     "output_type": "execute_result"
    }
   ],
   "source": [
    "neural_net"
   ]
  },
  {
   "cell_type": "code",
   "execution_count": null,
   "metadata": {},
   "outputs": [],
   "source": []
  }
 ],
 "metadata": {
  "kernelspec": {
   "display_name": "Python 3",
   "language": "python",
   "name": "python3"
  },
  "language_info": {
   "codemirror_mode": {
    "name": "ipython",
    "version": 3
   },
   "file_extension": ".py",
   "mimetype": "text/x-python",
   "name": "python",
   "nbconvert_exporter": "python",
   "pygments_lexer": "ipython3",
   "version": "3.6.5"
  }
 },
 "nbformat": 4,
 "nbformat_minor": 2
}
