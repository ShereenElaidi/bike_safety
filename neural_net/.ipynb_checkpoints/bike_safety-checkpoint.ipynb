{
 "cells": [
  {
   "cell_type": "code",
   "execution_count": 43,
   "metadata": {},
   "outputs": [],
   "source": [
    "import matplotlib.pyplot as plt\n",
    "import torch\n",
    "import torch.nn as nn\n",
    "import torch.optim as optim\n",
    "import torch.nn.functional as F\n",
    "import numpy as np\n",
    "import pandas as pd\n",
    "import torch.utils.data\n",
    "import pickle"
   ]
  },
  {
   "cell_type": "code",
   "execution_count": 44,
   "metadata": {},
   "outputs": [],
   "source": [
    "\n",
    "class model(nn.Module):\n",
    "    def __init__(self):\n",
    "        super(model, self).__init__()\n",
    "        self.fc1 = nn.Linear(5,30)\n",
    "        self.fc2 = nn.Linear(30,50)\n",
    "        self.fc3 = nn.Linear(50,90)\n",
    "        self.fc4 = nn.Linear(90,120)\n",
    "        self.fc5 = nn.Linear(120,80)\n",
    "        self.fc6 = nn.Linear(80,60)\n",
    "        self.fc7 = nn.Linear(60,30)\n",
    "        self.fc8 = nn.Linear(30,20)\n",
    "        self.fc9 = nn.Linear(20,10)\n",
    "        self.fc10 = nn.Linear(10,1)\n",
    "# Final output: predicing # of possible accidents\n",
    "\n",
    "    def forward(self, x):\n",
    "        out = F.relu(self.fc1(x))\n",
    "        out = F.dropout(out, p=0.5)\n",
    "        out = F.relu(self.fc2(out))\n",
    "        out = F.dropout(out, p=0.5)\n",
    "        out = F.relu(self.fc3(out))\n",
    "        out = F.dropout(out, p=0.5)\n",
    "        out = F.relu(self.fc4(out))\n",
    "        out = F.dropout(out, p=0.5)\n",
    "        out = F.relu(self.fc5(out))\n",
    "        out = F.dropout(out, p=0.5)\n",
    "        out = F.relu(self.fc6(out))\n",
    "        out = F.dropout(out, p=0.5)\n",
    "        out = F.relu(self.fc7(out))\n",
    "        out = F.dropout(out, p=0.5)\n",
    "        out = F.relu(self.fc8(out))\n",
    "        out = F.dropout(out, p=0.5)\n",
    "        \n",
    "        out = self.fc9(out)\n",
    "\n",
    "        return out"
   ]
  },
  {
   "cell_type": "code",
   "execution_count": 45,
   "metadata": {},
   "outputs": [],
   "source": [
    "bike = model() "
   ]
  },
  {
   "cell_type": "code",
   "execution_count": 46,
   "metadata": {},
   "outputs": [],
   "source": [
    "bike.load_state_dict(torch.load('Model_optimal.pth'))"
   ]
  },
  {
   "cell_type": "code",
   "execution_count": 47,
   "metadata": {},
   "outputs": [
    {
     "data": {
      "text/plain": [
       "model(\n",
       "  (fc1): Linear(in_features=5, out_features=30, bias=True)\n",
       "  (fc2): Linear(in_features=30, out_features=50, bias=True)\n",
       "  (fc3): Linear(in_features=50, out_features=90, bias=True)\n",
       "  (fc4): Linear(in_features=90, out_features=120, bias=True)\n",
       "  (fc5): Linear(in_features=120, out_features=80, bias=True)\n",
       "  (fc6): Linear(in_features=80, out_features=60, bias=True)\n",
       "  (fc7): Linear(in_features=60, out_features=30, bias=True)\n",
       "  (fc8): Linear(in_features=30, out_features=20, bias=True)\n",
       "  (fc9): Linear(in_features=20, out_features=10, bias=True)\n",
       "  (fc10): Linear(in_features=10, out_features=1, bias=True)\n",
       ")"
      ]
     },
     "execution_count": 47,
     "metadata": {},
     "output_type": "execute_result"
    }
   ],
   "source": [
    "bike"
   ]
  },
  {
   "cell_type": "code",
   "execution_count": 48,
   "metadata": {},
   "outputs": [],
   "source": [
    "data= torch.tensor((2006,1,1,45.5017, -73.5673))\n",
    "\n",
    "data.shape\n",
    "output = bike(data)\n"
   ]
  },
  {
   "cell_type": "code",
   "execution_count": 49,
   "metadata": {},
   "outputs": [
    {
     "name": "stdout",
     "output_type": "stream",
     "text": [
      "torch.Size([10])\n"
     ]
    }
   ],
   "source": [
    "print(output.shape)"
   ]
  },
  {
   "cell_type": "code",
   "execution_count": 50,
   "metadata": {},
   "outputs": [
    {
     "data": {
      "text/plain": [
       "tensor([ 3.6829e+16,  3.5253e+16, -3.5292e+16, -3.5597e+16, -3.6441e+16,\n",
       "        -3.5806e+16, -3.4564e+16, -3.5545e+16, -3.5968e+16, -3.6189e+16])"
      ]
     },
     "execution_count": 50,
     "metadata": {},
     "output_type": "execute_result"
    }
   ],
   "source": [
    "output"
   ]
  },
  {
   "cell_type": "code",
   "execution_count": null,
   "metadata": {},
   "outputs": [],
   "source": []
  }
 ],
 "metadata": {
  "kernelspec": {
   "display_name": "Python 3",
   "language": "python",
   "name": "python3"
  },
  "language_info": {
   "codemirror_mode": {
    "name": "ipython",
    "version": 3
   },
   "file_extension": ".py",
   "mimetype": "text/x-python",
   "name": "python",
   "nbconvert_exporter": "python",
   "pygments_lexer": "ipython3",
   "version": "3.6.5"
  }
 },
 "nbformat": 4,
 "nbformat_minor": 2
}
