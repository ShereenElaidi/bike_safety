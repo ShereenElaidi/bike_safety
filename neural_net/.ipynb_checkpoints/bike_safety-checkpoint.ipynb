{
 "cells": [
  {
   "cell_type": "code",
   "execution_count": 1,
   "metadata": {},
   "outputs": [],
   "source": [
    "import matplotlib.pyplot as plt\n",
    "import torch\n",
    "import torch.nn as nn\n",
    "import torch.optim as optim\n",
    "import torch.nn.functional as F\n",
    "import numpy as np\n",
    "import pandas as pd\n",
    "import torch.utils.data\n",
    "import pickle\n",
    "import os"
   ]
  },
  {
   "cell_type": "code",
   "execution_count": 2,
   "metadata": {},
   "outputs": [],
   "source": [
    "def eval(model, eval_loader):\n",
    "    model.eval()\n",
    "    total_loss = 0\n",
    "    correct = 0\n",
    "\n",
    "    for batch_fix, (data, target) in enumerate(eval_loader):\n",
    "        prediction = model(data)\n",
    "        loss = cost_function(prediction, target)\n",
    "        total_loss += loss.data[0]*len(data)\n",
    "        pred_classes = prediction.data.max(1,keepdim=True)[1]\n",
    "        correct += pred_classes.eq(target.data.view_as(pred_classes)).sum().double()\n",
    "\n",
    "    # compute mean loss\n",
    "    mean_loss = total_loss/len(eval_loader.dataset)\n",
    "    acc = correct/len(eval_loader.dataset)\n",
    "    print('Eval:  Avg_Loss: {:.5f}   Acc: {}/{} ({:.3f}%)'.format(\n",
    "        mean_loss, correct, len(eval_loader.dataset),\n",
    "        100. * acc))\n",
    "    return mean_loss, acc"
   ]
  },
  {
   "cell_type": "code",
   "execution_count": 3,
   "metadata": {},
   "outputs": [],
   "source": [
    "\n",
    "class Net(nn.Module):\n",
    "    def __init__(self):\n",
    "        super(Net, self).__init__()\n",
    "        self.fc1 = nn.Linear(5, 20)\n",
    "        self.fc2 = nn.Linear(20, 40)\n",
    "        self.fc3 = nn.Linear(40, 40)\n",
    "        self.fc4 = nn.Linear(40, 80)\n",
    "        self.fc5 = nn.Linear(80, 40)\n",
    "        self.fc6 = nn.Linear(40, 20)\n",
    "        self.fc7 = nn.Linear(20, 11)         # Final output: predicing # of possible accidents\n",
    "\n",
    "    def forward(self, x):\n",
    "        out = F.relu(self.fc1(x))\n",
    "        out = F.dropout(out, p=0.5)\n",
    "        out = F.relu(self.fc2(out))\n",
    "        out = F.dropout(out, p=0.5)\n",
    "        out = F.relu(self.fc3(out))\n",
    "        out = F.dropout(out, p=0.5)\n",
    "        out = F.relu(self.fc4(out))\n",
    "        out = F.dropout(out, p=0.5)\n",
    "        out = F.relu(self.fc5(out))\n",
    "        out = F.dropout(out, p=0.5)\n",
    "        out = F.relu(self.fc6(out))\n",
    "        out = F.dropout(out, p=0.5)\n",
    "        out = self.fc7(out)\n",
    "        return out"
   ]
  },
  {
   "cell_type": "code",
   "execution_count": 4,
   "metadata": {},
   "outputs": [],
   "source": [
    "neural_net = Net()"
   ]
  },
  {
   "cell_type": "code",
   "execution_count": 5,
   "metadata": {},
   "outputs": [],
   "source": [
    "df = pd.read_csv(\"data.csv\")\n",
    "\n",
    "train, validate, test = np.split(df.sample(frac=1, random_state=134),\n",
    "                                 [int(.6*len(df)), int(.8*len(df))])\n",
    "\n",
    "x_train = train.drop(['Count'], axis =1).values\n",
    "y_train = train['Count'].values\n",
    "\n",
    "x_val = train.drop(['Count'], axis=1).values\n",
    "y_val = train['Count'].values\n",
    "\n",
    "x_test = test.drop(['Count'], axis=1).values\n",
    "y_test = test['Count'].values\n",
    "\n",
    "\n",
    "train_data = torch.utils.data.TensorDataset(torch.from_numpy(x_train).float(),\n",
    "                                            torch.from_numpy(y_train).long())\n",
    "val_data = torch.utils.data.TensorDataset(torch.from_numpy(x_val).float(),\n",
    "                                          torch.from_numpy(y_val).long())\n",
    "test_data = torch.utils.data.TensorDataset(torch.from_numpy(x_test).float(),\n",
    "                                           torch.from_numpy(y_test).long())\n",
    "\n",
    "\n",
    "train_batch_size = 32\n",
    "eval_batch_size = 32\n",
    "train_loader = torch.utils.data.DataLoader(train_data, batch_size = train_batch_size, shuffle =True)\n",
    "val_loader = torch.utils.data.DataLoader(val_data, batch_size = eval_batch_size, shuffle = False)\n",
    "test_loader = torch.utils.data.DataLoader(test_data, batch_size = eval_batch_size, shuffle=False)\n"
   ]
  },
  {
   "cell_type": "code",
   "execution_count": 12,
   "metadata": {},
   "outputs": [
    {
     "ename": "TypeError",
     "evalue": "eval() missing 1 required positional argument: 'self'",
     "output_type": "error",
     "traceback": [
      "\u001b[0;31m-----------------------------------------------------------------------\u001b[0m",
      "\u001b[0;31mTypeError\u001b[0m                             Traceback (most recent call last)",
      "\u001b[0;32m<ipython-input-12-3d1e08c1edcc>\u001b[0m in \u001b[0;36m<module>\u001b[0;34m()\u001b[0m\n\u001b[0;32m----> 1\u001b[0;31m \u001b[0mtest_loss\u001b[0m\u001b[0;34m,\u001b[0m \u001b[0mtest_acc\u001b[0m \u001b[0;34m=\u001b[0m \u001b[0meval\u001b[0m\u001b[0;34m(\u001b[0m\u001b[0mneural_net\u001b[0m\u001b[0;34m,\u001b[0m \u001b[0mtest_loader\u001b[0m\u001b[0;34m)\u001b[0m\u001b[0;34m\u001b[0m\u001b[0m\n\u001b[0m",
      "\u001b[0;32m<ipython-input-2-8215570a992b>\u001b[0m in \u001b[0;36meval\u001b[0;34m(model, eval_loader)\u001b[0m\n\u001b[1;32m      1\u001b[0m \u001b[0;32mdef\u001b[0m \u001b[0meval\u001b[0m\u001b[0;34m(\u001b[0m\u001b[0mmodel\u001b[0m\u001b[0;34m,\u001b[0m \u001b[0meval_loader\u001b[0m\u001b[0;34m)\u001b[0m\u001b[0;34m:\u001b[0m\u001b[0;34m\u001b[0m\u001b[0m\n\u001b[0;32m----> 2\u001b[0;31m     \u001b[0mmodel\u001b[0m\u001b[0;34m.\u001b[0m\u001b[0meval\u001b[0m\u001b[0;34m(\u001b[0m\u001b[0;34m)\u001b[0m\u001b[0;34m\u001b[0m\u001b[0m\n\u001b[0m\u001b[1;32m      3\u001b[0m     \u001b[0mtotal_loss\u001b[0m \u001b[0;34m=\u001b[0m \u001b[0;36m0\u001b[0m\u001b[0;34m\u001b[0m\u001b[0m\n\u001b[1;32m      4\u001b[0m     \u001b[0mcorrect\u001b[0m \u001b[0;34m=\u001b[0m \u001b[0;36m0\u001b[0m\u001b[0;34m\u001b[0m\u001b[0m\n\u001b[1;32m      5\u001b[0m \u001b[0;34m\u001b[0m\u001b[0m\n",
      "\u001b[0;31mTypeError\u001b[0m: eval() missing 1 required positional argument: 'self'"
     ]
    }
   ],
   "source": [
    "test_loss, test_acc = eval(neural_net, test_loader)"
   ]
  },
  {
   "cell_type": "code",
   "execution_count": null,
   "metadata": {},
   "outputs": [],
   "source": [
    "\n",
    "model.load_state_dict(torch.load('./Users/ShereenElaidi/Desktop/University/AI4SocialGood/bike_safety/neural_net/Model_optimal.pth'))\n",
    "\n"
   ]
  },
  {
   "cell_type": "code",
   "execution_count": null,
   "metadata": {},
   "outputs": [],
   "source": [
    "!ls"
   ]
  },
  {
   "cell_type": "code",
   "execution_count": null,
   "metadata": {},
   "outputs": [],
   "source": []
  }
 ],
 "metadata": {
  "kernelspec": {
   "display_name": "Python 3",
   "language": "python",
   "name": "python3"
  },
  "language_info": {
   "codemirror_mode": {
    "name": "ipython",
    "version": 3
   },
   "file_extension": ".py",
   "mimetype": "text/x-python",
   "name": "python",
   "nbconvert_exporter": "python",
   "pygments_lexer": "ipython3",
   "version": "3.6.5"
  }
 },
 "nbformat": 4,
 "nbformat_minor": 2
}
